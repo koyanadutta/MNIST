{
  "nbformat": 4,
  "nbformat_minor": 0,
  "metadata": {
    "colab": {
      "provenance": []
    },
    "kernelspec": {
      "name": "python3",
      "display_name": "Python 3"
    },
    "language_info": {
      "name": "python"
    }
  },
  "cells": [
    {
      "cell_type": "markdown",
      "source": [
        "## Importing Necessary Libraries"
      ],
      "metadata": {
        "id": "ShokDfGN4SFn"
      }
    },
    {
      "cell_type": "code",
      "execution_count": null,
      "metadata": {
        "id": "KY7dsryq4EUJ"
      },
      "outputs": [],
      "source": [
        "import numpy as np\n",
        "from matplotlib import pyplot as plt"
      ]
    },
    {
      "cell_type": "code",
      "source": [
        "import keras"
      ],
      "metadata": {
        "id": "8SaxTP7V4RWR"
      },
      "execution_count": null,
      "outputs": []
    },
    {
      "cell_type": "code",
      "source": [
        "from keras.models import Sequential\n",
        "from keras.datasets import mnist"
      ],
      "metadata": {
        "id": "3HHGqlua4c5m"
      },
      "execution_count": null,
      "outputs": []
    },
    {
      "cell_type": "code",
      "source": [
        "from keras.layers import Dense\n",
        "from keras.optimizers import Adam"
      ],
      "metadata": {
        "id": "LAIzyYsz4tT0"
      },
      "execution_count": null,
      "outputs": []
    },
    {
      "cell_type": "code",
      "source": [
        "import random"
      ],
      "metadata": {
        "id": "PSGf9IXH5N7M"
      },
      "execution_count": null,
      "outputs": []
    },
    {
      "cell_type": "code",
      "source": [
        "from keras.utils import to_categorical"
      ],
      "metadata": {
        "id": "jObTOKHNRmNc"
      },
      "execution_count": null,
      "outputs": []
    },
    {
      "cell_type": "markdown",
      "source": [
        "## Defining Training and Testing Datasets"
      ],
      "metadata": {
        "id": "_qIT61zKBzBI"
      }
    },
    {
      "cell_type": "code",
      "source": [
        "(X_train, y_train), (X_test, y_test) = mnist.load_data()"
      ],
      "metadata": {
        "id": "IRajoeJ_5PmD"
      },
      "execution_count": null,
      "outputs": []
    },
    {
      "cell_type": "code",
      "source": [
        "X_train.shape, X_test.shape"
      ],
      "metadata": {
        "colab": {
          "base_uri": "https://localhost:8080/"
        },
        "id": "oQQyTk8wB88L",
        "outputId": "332f03a3-dd7a-4be2-f988-9fd6ce74b789"
      },
      "execution_count": null,
      "outputs": [
        {
          "output_type": "execute_result",
          "data": {
            "text/plain": [
              "((60000, 28, 28), (10000, 28, 28))"
            ]
          },
          "metadata": {},
          "execution_count": 20
        }
      ]
    },
    {
      "cell_type": "code",
      "source": [
        "y_train.shape"
      ],
      "metadata": {
        "colab": {
          "base_uri": "https://localhost:8080/"
        },
        "id": "Qguc30blCQm6",
        "outputId": "d794d562-68f7-433a-a945-0cdcf24dcd17"
      },
      "execution_count": null,
      "outputs": [
        {
          "output_type": "execute_result",
          "data": {
            "text/plain": [
              "(60000,)"
            ]
          },
          "metadata": {},
          "execution_count": 21
        }
      ]
    },
    {
      "cell_type": "markdown",
      "source": [
        "## Number of Images per Digit"
      ],
      "metadata": {
        "id": "gbDUGYi2DIqL"
      }
    },
    {
      "cell_type": "code",
      "source": [
        "classes = 10\n",
        "samples = []\n",
        "for i in range(classes):\n",
        "  x = X_train[y_train == i]\n",
        "  samples.append(len(x))"
      ],
      "metadata": {
        "id": "YSYmPUthDXgv"
      },
      "execution_count": null,
      "outputs": []
    },
    {
      "cell_type": "code",
      "source": [
        "print(samples)\n",
        "plt.figure(figsize=(12, 4))\n",
        "y = [0, 1, 2, 3, 4, 5, 6, 7, 8, 9]\n",
        "plt.bar(y, samples)\n",
        "plt.title(\"Number of Images per Digit\")\n",
        "plt.xlabel(\"Digit\")\n",
        "plt.ylabel(\"Number of images\")"
      ],
      "metadata": {
        "colab": {
          "base_uri": "https://localhost:8080/",
          "height": 332
        },
        "id": "rK3IXzkbCT6q",
        "outputId": "66cf7197-dfec-46d9-d2ad-2670ea18be5d"
      },
      "execution_count": null,
      "outputs": [
        {
          "output_type": "stream",
          "name": "stdout",
          "text": [
            "[5923, 6742, 5958, 6131, 5842, 5421, 5918, 6265, 5851, 5949]\n"
          ]
        },
        {
          "output_type": "execute_result",
          "data": {
            "text/plain": [
              "Text(0, 0.5, 'Number of images')"
            ]
          },
          "metadata": {},
          "execution_count": 23
        },
        {
          "output_type": "display_data",
          "data": {
            "text/plain": [
              "<Figure size 864x288 with 1 Axes>"
            ],
            "image/png": "[encoded data removed]"
          },
          "metadata": {
            "needs_background": "light"
          }
        }
      ]
    },
    {
      "cell_type": "markdown",
      "source": [
        "## Multiclass Results"
      ],
      "metadata": {
        "id": "LvAeC30DRZGs"
      }
    },
    {
      "cell_type": "code",
      "source": [
        "y_train = to_categorical(y_train, 10)\n",
        "y_test = to_categorical(y_test, 10)"
      ],
      "metadata": {
        "id": "Pb4hD0rDP6GT"
      },
      "execution_count": null,
      "outputs": []
    },
    {
      "cell_type": "markdown",
      "source": [
        "## Matrix Multiplication"
      ],
      "metadata": {
        "id": "Sw_7KX8eRxUD"
      }
    },
    {
      "cell_type": "code",
      "source": [
        "X_train = X_train / 255 \n",
        "X_test = X_test / 255"
      ],
      "metadata": {
        "id": "7w7VztLRRv-G"
      },
      "execution_count": null,
      "outputs": []
    },
    {
      "cell_type": "code",
      "source": [
        "pixels = 784\n",
        "X_train = X_train.reshape(X_train.shape[0], pixels)\n",
        "X_test = X_test.reshape(X_test.shape[0], pixels)"
      ],
      "metadata": {
        "id": "azCVVzXtSQPY"
      },
      "execution_count": null,
      "outputs": []
    },
    {
      "cell_type": "code",
      "source": [
        "X_train.shape"
      ],
      "metadata": {
        "colab": {
          "base_uri": "https://localhost:8080/"
        },
        "id": "8jwh5WHKSqzg",
        "outputId": "10306b5e-d040-41be-dbb8-fb81960e9d34"
      },
      "execution_count": null,
      "outputs": [
        {
          "output_type": "execute_result",
          "data": {
            "text/plain": [
              "(60000, 784)"
            ]
          },
          "metadata": {},
          "execution_count": 27
        }
      ]
    },
    {
      "cell_type": "markdown",
      "source": [
        "## Creating Neural Networks Model"
      ],
      "metadata": {
        "id": "XziG0Ml3TXNs"
      }
    },
    {
      "cell_type": "code",
      "source": [
        "model = Sequential()\n",
        "model.add(Dense(10, input_dim = pixels, activation = 'relu'))\n",
        "model.add(Dense(30, activation ='relu'))\n",
        "model.add(Dense(10, activation ='relu'))\n",
        "model.add(Dense(classes, activation ='softmax'))\n",
        "model.compile(Adam(lr = 0.01), loss ='categorical_crossentropy', \n",
        "              metrics = ['accuracy'])"
      ],
      "metadata": {
        "colab": {
          "base_uri": "https://localhost:8080/"
        },
        "id": "TdDNgJe0Su7A",
        "outputId": "1c20587e-611a-4a65-91ac-5b5d74cc2291"
      },
      "execution_count": null,
      "outputs": [
        {
          "output_type": "stream",
          "name": "stderr",
          "text": [
            "/usr/local/lib/python3.8/dist-packages/keras/optimizers/optimizer_v2/adam.py:110: UserWarning: The `lr` argument is deprecated, use `learning_rate` instead.\n",
            "  super(Adam, self).__init__(name, **kwargs)\n"
          ]
        }
      ]
    },
    {
      "cell_type": "code",
      "source": [
        "model.summary()"
      ],
      "metadata": {
        "colab": {
          "base_uri": "https://localhost:8080/"
        },
        "id": "VEqpOIMOT45X",
        "outputId": "ba27da8e-9db2-4999-a2d4-cdd9720554b4"
      },
      "execution_count": null,
      "outputs": [
        {
          "output_type": "stream",
          "name": "stdout",
          "text": [
            "Model: \"sequential\"\n",
            "_________________________________________________________________\n",
            " Layer (type)                Output Shape              Param #   \n",
            "=================================================================\n",
            " dense (Dense)               (None, 10)                7850      \n",
            "                                                                 \n",
            " dense_1 (Dense)             (None, 30)                330       \n",
            "                                                                 \n",
            " dense_2 (Dense)             (None, 10)                310       \n",
            "                                                                 \n",
            " dense_3 (Dense)             (None, 10)                110       \n",
            "                                                                 \n",
            "=================================================================\n",
            "Total params: 8,600\n",
            "Trainable params: 8,600\n",
            "Non-trainable params: 0\n",
            "_________________________________________________________________\n"
          ]
        }
      ]
    },
    {
      "cell_type": "code",
      "source": [
        "history = model.fit(X_train, y_train, validation_split = 0.3, epochs = 20,\n",
        "                    batch_size = 150, verbose = 1, shuffle = 1)"
      ],
      "metadata": {
        "colab": {
          "base_uri": "https://localhost:8080/"
        },
        "id": "IBB3MD6CT8mg",
        "outputId": "609040e0-4b89-41b2-de3d-5599f2b0adc0"
      },
      "execution_count": null,
      "outputs": [
        {
          "output_type": "stream",
          "name": "stdout",
          "text": [
            "Epoch 1/20\n",
            "280/280 [==============================] - 2s 4ms/step - loss: 0.5159 - accuracy: 0.8344 - val_loss: 0.2952 - val_accuracy: 0.9113\n",
            "Epoch 2/20\n",
            "280/280 [==============================] - 1s 4ms/step - loss: 0.2657 - accuracy: 0.9201 - val_loss: 0.2712 - val_accuracy: 0.9206\n",
            "Epoch 3/20\n",
            "280/280 [==============================] - 1s 4ms/step - loss: 0.2434 - accuracy: 0.9288 - val_loss: 0.2540 - val_accuracy: 0.9286\n",
            "Epoch 4/20\n",
            "280/280 [==============================] - 1s 3ms/step - loss: 0.2238 - accuracy: 0.9324 - val_loss: 0.2662 - val_accuracy: 0.9237\n",
            "Epoch 5/20\n",
            "280/280 [==============================] - 1s 4ms/step - loss: 0.2149 - accuracy: 0.9353 - val_loss: 0.2530 - val_accuracy: 0.9267\n",
            "Epoch 6/20\n",
            "280/280 [==============================] - 1s 4ms/step - loss: 0.2101 - accuracy: 0.9380 - val_loss: 0.2391 - val_accuracy: 0.9329\n",
            "Epoch 7/20\n",
            "280/280 [==============================] - 1s 3ms/step - loss: 0.1985 - accuracy: 0.9405 - val_loss: 0.2279 - val_accuracy: 0.9366\n",
            "Epoch 8/20\n",
            "280/280 [==============================] - 1s 4ms/step - loss: 0.1966 - accuracy: 0.9413 - val_loss: 0.2136 - val_accuracy: 0.9398\n",
            "Epoch 9/20\n",
            "280/280 [==============================] - 1s 3ms/step - loss: 0.1893 - accuracy: 0.9439 - val_loss: 0.2273 - val_accuracy: 0.9364\n",
            "Epoch 10/20\n",
            "280/280 [==============================] - 1s 4ms/step - loss: 0.1884 - accuracy: 0.9444 - val_loss: 0.2274 - val_accuracy: 0.9347\n",
            "Epoch 11/20\n",
            "280/280 [==============================] - 1s 4ms/step - loss: 0.1841 - accuracy: 0.9447 - val_loss: 0.2360 - val_accuracy: 0.9347\n",
            "Epoch 12/20\n",
            "280/280 [==============================] - 1s 4ms/step - loss: 0.1774 - accuracy: 0.9482 - val_loss: 0.2291 - val_accuracy: 0.9351\n",
            "Epoch 13/20\n",
            "280/280 [==============================] - 1s 4ms/step - loss: 0.1754 - accuracy: 0.9472 - val_loss: 0.2252 - val_accuracy: 0.9364\n",
            "Epoch 14/20\n",
            "280/280 [==============================] - 1s 4ms/step - loss: 0.1748 - accuracy: 0.9478 - val_loss: 0.2350 - val_accuracy: 0.9358\n",
            "Epoch 15/20\n",
            "280/280 [==============================] - 1s 3ms/step - loss: 0.1712 - accuracy: 0.9488 - val_loss: 0.2374 - val_accuracy: 0.9353\n",
            "Epoch 16/20\n",
            "280/280 [==============================] - 1s 3ms/step - loss: 0.1697 - accuracy: 0.9489 - val_loss: 0.2481 - val_accuracy: 0.9351\n",
            "Epoch 17/20\n",
            "280/280 [==============================] - 1s 3ms/step - loss: 0.1715 - accuracy: 0.9484 - val_loss: 0.2268 - val_accuracy: 0.9391\n",
            "Epoch 18/20\n",
            "280/280 [==============================] - 1s 4ms/step - loss: 0.1640 - accuracy: 0.9516 - val_loss: 0.2618 - val_accuracy: 0.9277\n",
            "Epoch 19/20\n",
            "280/280 [==============================] - 1s 3ms/step - loss: 0.1680 - accuracy: 0.9503 - val_loss: 0.2517 - val_accuracy: 0.9304\n",
            "Epoch 20/20\n",
            "280/280 [==============================] - 1s 3ms/step - loss: 0.1638 - accuracy: 0.9505 - val_loss: 0.2420 - val_accuracy: 0.9361\n"
          ]
        }
      ]
    },
    {
      "cell_type": "markdown",
      "source": [
        "## Plotting Loss and Validation Loss"
      ],
      "metadata": {
        "id": "FJ0AKaRLUY5T"
      }
    },
    {
      "cell_type": "code",
      "source": [
        "plt.plot(history.history['loss'])\n",
        "plt.plot(history.history['val_loss'])\n",
        "plt.legend(['Loss', 'Val_Loss'])\n",
        "plt.title('Loss')\n",
        "plt.xlabel('Epochs')"
      ],
      "metadata": {
        "colab": {
          "base_uri": "https://localhost:8080/",
          "height": 313
        },
        "id": "DS-9PoBPUOtR",
        "outputId": "3f054014-324f-4581-ff18-c7673fa3a233"
      },
      "execution_count": null,
      "outputs": [
        {
          "output_type": "execute_result",
          "data": {
            "text/plain": [
              "Text(0.5, 0, 'Epochs')"
            ]
          },
          "metadata": {},
          "execution_count": 32
        },
        {
          "output_type": "display_data",
          "data": {
            "text/plain": [
              "<Figure size 432x288 with 1 Axes>"
            ],
            "image/png": "[encoded data removed]"
          },
          "metadata": {
            "needs_background": "light"
          }
        }
      ]
    },
    {
      "cell_type": "markdown",
      "source": [
        "## Plotting Accuracy and Validation Accuracy"
      ],
      "metadata": {
        "id": "PBa_lcdYUr26"
      }
    },
    {
      "cell_type": "code",
      "source": [
        "plt.plot(history.history['accuracy'])\n",
        "plt.plot(history.history['val_accuracy'])\n",
        "plt.legend(['Acc', 'Val_Acc'])\n",
        "plt.title('Accuracy')\n",
        "plt.xlabel('Epochs')"
      ],
      "metadata": {
        "colab": {
          "base_uri": "https://localhost:8080/",
          "height": 313
        },
        "id": "T7abhlyoUg9y",
        "outputId": "a6a94879-309c-4b67-92df-b1991f688c25"
      },
      "execution_count": null,
      "outputs": [
        {
          "output_type": "execute_result",
          "data": {
            "text/plain": [
              "Text(0.5, 0, 'Epochs')"
            ]
          },
          "metadata": {},
          "execution_count": 34
        },
        {
          "output_type": "display_data",
          "data": {
            "text/plain": [
              "<Figure size 432x288 with 1 Axes>"
            ],
            "image/png": "[encoded data removed]"
          },
          "metadata": {
            "needs_background": "light"
          }
        }
      ]
    },
    {
      "cell_type": "code",
      "source": [],
      "metadata": {
        "id": "ZDr2w0ZSU5k6"
      },
      "execution_count": null,
      "outputs": []
    }
  ]
}